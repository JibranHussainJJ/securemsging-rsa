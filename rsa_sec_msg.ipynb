{
 "cells": [
  {
   "cell_type": "code",
   "execution_count": 13,
   "metadata": {
    "collapsed": false
   },
   "outputs": [
    {
     "name": "stdout",
     "output_type": "stream",
     "text": [
      "Generating RSA private key, 2048 bit long modulus (2 primes)\r\n",
      "........"
     ]
    },
    {
     "name": "stdout",
     "output_type": "stream",
     "text": [
      "................................"
     ]
    },
    {
     "name": "stdout",
     "output_type": "stream",
     "text": [
      "..."
     ]
    },
    {
     "name": "stdout",
     "output_type": "stream",
     "text": [
      "..........+++++\r\n",
      "...."
     ]
    },
    {
     "name": "stdout",
     "output_type": "stream",
     "text": [
      "..................."
     ]
    },
    {
     "name": "stdout",
     "output_type": "stream",
     "text": [
      "..............................."
     ]
    },
    {
     "name": "stdout",
     "output_type": "stream",
     "text": [
      "."
     ]
    },
    {
     "name": "stdout",
     "output_type": "stream",
     "text": [
      ".................."
     ]
    },
    {
     "name": "stdout",
     "output_type": "stream",
     "text": [
      "...."
     ]
    },
    {
     "name": "stdout",
     "output_type": "stream",
     "text": [
      "..+++++\r\n",
      "e is 65537 (0x010001)\r\n"
     ]
    },
    {
     "name": "stdout",
     "output_type": "stream",
     "text": [
      "writing RSA key\r\n"
     ]
    },
    {
     "name": "stdout",
     "output_type": "stream",
     "text": [
      "writing RSA key\r\n"
     ]
    }
   ],
   "source": [
    "#sender public and private key\n",
    "!openssl genrsa -out private.pem 2048\n",
    "!openssl rsa -in private.pem -outform DER -out send_priv.der\n",
    "!openssl rsa -in private.pem -outform DER -pubout -out send_pub.der"
   ]
  },
  {
   "cell_type": "code",
   "execution_count": 14,
   "metadata": {
    "collapsed": false
   },
   "outputs": [
    {
     "name": "stdout",
     "output_type": "stream",
     "text": [
      "Generating RSA private key, 2048 bit long modulus (2 primes)\r\n",
      "....+++++\r\n",
      ".........."
     ]
    },
    {
     "name": "stdout",
     "output_type": "stream",
     "text": [
      "...................."
     ]
    },
    {
     "name": "stdout",
     "output_type": "stream",
     "text": [
      "...................................."
     ]
    },
    {
     "name": "stdout",
     "output_type": "stream",
     "text": [
      "."
     ]
    },
    {
     "name": "stdout",
     "output_type": "stream",
     "text": [
      ".........................."
     ]
    },
    {
     "name": "stdout",
     "output_type": "stream",
     "text": [
      ".................+++++\r\n",
      "e is 65537 (0x010001)\r\n"
     ]
    },
    {
     "name": "stdout",
     "output_type": "stream",
     "text": [
      "writing RSA key\r\n"
     ]
    },
    {
     "name": "stdout",
     "output_type": "stream",
     "text": [
      "writing RSA key\r\n"
     ]
    }
   ],
   "source": [
    "#reciver public and private key\n",
    "!openssl genrsa -out private.pem 2048\n",
    "!openssl rsa -in private.pem -outform DER -out rec_priv.der\n",
    "!openssl rsa -in private.pem -outform DER -pubout -out rec_pub.der"
   ]
  },
  {
   "cell_type": "code",
   "execution_count": 15,
   "metadata": {
    "collapsed": false
   },
   "outputs": [
   ],
   "source": [
    "#AES key generation\n",
    "!openssl rand 16 > aes.key"
   ]
  },
  {
   "cell_type": "code",
   "execution_count": 16,
   "metadata": {
    "collapsed": false
   },
   "outputs": [
   ],
   "source": [
    "from Crypto.Signature import pss\n",
    "from Crypto.Hash import SHA256\n",
    "from Crypto.PublicKey import RSA\n",
    "from Crypto.Cipher import PKCS1_OAEP\n",
    "from Crypto.Hash import SHA\n",
    "from Crypto import Random\n",
    "\n",
    "\n",
    "def sign_message(message,privkeyfile_der):\n",
    "    key = RSA.import_key(open(privkeyfile_der,'rb').read())\n",
    "    h = SHA256.new(message.encode())\n",
    "    signature = pss.new(key).sign(h)\n",
    "    return signature\n",
    "\n",
    "\n",
    "def verify_sig(message,signature,pubkeyfile_der):\n",
    "    key = RSA.import_key(open(pubkeyfile_der,'rb').read())\n",
    "    h = SHA256.new(message)\n",
    "    verifier = pss.new(key)\n",
    "    try:\n",
    "        verifier.verify(h, signature)\n",
    "        print( \"The signature is authentic.\")\n",
    "    except (ValueError, TypeError):\n",
    "        print( \"The signature is not authentic.\")\n",
    "\n",
    "\n",
    "def RSAencrypt(message,pubkeyfile_der):\n",
    "    key = RSA.importKey(open(pubkeyfile_der,'rb').read())\n",
    "    cipher = PKCS1_OAEP.new(key)  ### Padding Scheme\n",
    "    ciphertext = cipher.encrypt(message)\n",
    "    return ciphertext\n",
    "\n",
    "def RSAdecrypt(ciphertext,privatekey_der):\n",
    "    key = RSA.importKey(open(privatekey_der,'rb').read())\n",
    "    cipher = PKCS1_OAEP.new(key)\n",
    "    message = cipher.decrypt(ciphertext)\n",
    "    return message"
   ]
  },
  {
   "cell_type": "code",
   "execution_count": 17,
   "metadata": {
    "collapsed": false
   },
   "outputs": [
   ],
   "source": [
    "!echo -n \"dog is cat and cat is dog\" > msg"
   ]
  },
  {
   "cell_type": "code",
   "execution_count": 18,
   "metadata": {
    "collapsed": false
   },
   "outputs": [
    {
     "data": {
      "text/plain": [
       "b'O\\xb7\\xa6:\\xf0!5\\xf6\\xfb\\x13\\xde+_\\xbc@\\xe0\\xe1\\xf62<\\x8e\\xd0\\xb0=K\\xcau\\n%6\\x02\\xac\\x15\\xfa\\x05\\xd9\\x93_Ml\\xbf\\xed\\x96\\xb3qBYfn\\x80\\xe3}2\\x06\\xc2\\xd9\"\\xf8\\r\\x99\\x83\\xb1\\xb0\\x08\\x83\\xa8_B\\x91a\\xe3\\xcdhE\\xf8\\x04p\\x97\\x9fB\\x1dmk\\xd0\\x10Lk\\xd6\\xceUx\\x9d/a\\x19&\\xcaA\\x88\\xa6\\xdb\\x84\\x0f\\x98\\x039\\xa0\\x89\\xfa\\xa6\\xab\\xdcL%s\\t\\x86+\\xd7|\\x9b\\xcc\\x9c\\xa7\\x05\\xe6C~\\x941\\xdft\\x06%\\xbeGi\\xb1\\xc6\\x12\\xb4\\xa1\\xe0\\x0e\\xb5\\xbaS`\\xbd\\xcaN\\xbc\\x83\\xe6\\xaf\\xfd\\xb0w+\\xe3\\x8e\\x85:\\xd4\\xdd\\x8b\\x1d_A\\xa1\\xde\\x90&\\xc2\\xa6\\xa0Q3@\\x95\\x95^{\\xe3\\x87\\xa5\\x8e\\xe7m\\xde\\';\\xdf\\xb3V8[\\xfa>\\x9fCM\\xc1l#nt\\xd8\\tbu\\xb9x\\x18\\x88\\x88\\xb9X\\xd2,\\x03\\xa6\\x81cv\\xaf\\x84H\\xff\\x9f\\xb6\\xd2\\xbe\\xadt\\xfd6\\x80\\xeb\\x8aQ2s.l\\r\\x90\\xfc\\xa8;\\xfa\\xe4\\xcd\\x8ey\\xbe'"
      ]
     },
     "execution_count": 18,
     "metadata": {
     },
     "output_type": "execute_result"
    }
   ],
   "source": [
    "#Using sender's private key and the plaintext file we create the signature \n",
    "#assign it to msg.sig(to be transmitted to the reciever) file\n",
    "\n",
    "msg = open(\"msg\").read()\n",
    "\n",
    "signature = sign_message(msg,\"send_priv.der\")\n",
    "try:\n",
    "    fp = open(\"msg.sig\",\"wb\")\n",
    "    fp.write(signature)\n",
    "    fp.close()\n",
    "except:\n",
    "    print(\"IO error\")\n",
    "    \n",
    "signature"
   ]
  },
  {
   "cell_type": "code",
   "execution_count": 21,
   "metadata": {
    "collapsed": false
   },
   "outputs": [
   ],
   "source": [
    "#using AES-128bit in CTR mode we encrypt the plaintext file \n",
    "#assign it to msg.crypt file\n",
    "\n",
    "!openssl aes-128-ctr -pbkdf2 -iv 101112131415161718191A1B1C1D1E1F -e -pass file:aes.key -in msg -out msg.crypt\n"
   ]
  },
  {
   "cell_type": "code",
   "execution_count": 22,
   "metadata": {
    "collapsed": false
   },
   "outputs": [
    {
     "data": {
      "text/plain": [
       "b'.\\xec\\xc6\\x12\\xb5*g\\xa4\\xb7\\x83\\xa3\\x18n\\xf4x\\x93\\xfa\\xe6\\x93J\\xc6\\xc9\\x05\\x92\\xa3\\x98\\x94\\xc8\\xf3\\xec\\x85\\x1c\\x94\\xcc\\xfa\\xba\\x9bds\\x89C\\xfe\\xb8(;\\xdd\\xc2&\\xf2h\\xd0\\xda\\xc6\\xbdp\\x1f\\xbd\\x0b\\x8f8Z\\xf8\\xa3\\xecC\\x02\\xd6!\\xe3)\\x07\\x99\\x8d\\x90f\\xd7\\x82\\xacj\\xf6\\xac1\\xfe\\xd04\\xc23Y\\x9c\\xec\\x1d\\x95\\xbcl\\x1f\\xb6oR\\x14\\xd9\\x8a\\x0b\\xf8\\xcdA\\x19\\xae\\x81\\xf2\\xcc1Q\\n\\\\\\xcf:\\xadl\\xb7q\\xb6\\xee\\xfa\\xa3\\xc8\\x17\\xdb0\\xd4\\xd6`)8\\x17\\xfe]\\xad:g\\xbbY\\xe3X\\xe6\\x9d\\xe72\\xaf\\x1f6i~k\\xe3\\xcc1A\\x93\\x12/\\xd4cj\\xf7B\\x1eS\\xf2\\x15\\xae}\\x9b\\xd5\\x92\\x1f\\xf2\\xfc\\xcc\\xc0\\xe0\\x187\\xabW\\x8e\\x08<\\xa7\\xb4i\\x04S)6U\\x0e\\xa2G\\xcb@\\xfc\\xe3\\xd5yV\\x82\\x9f\\xad/H\\x02\\xf86\\x11ip\\xed\\xb6*\\x04\\xb5\\x08\\xad\\xd4Y\\xa2\\x08\\xb5E\\x91d\\xb4]\\t!\\xf36\\x04t{L\\xf8e.\\xc5\\xd1\\xa3\\x7f\\x93\\x85^\\r\\x95\\x99\\xaa\\x04'"
      ]
     },
     "execution_count": 22,
     "metadata": {
     },
     "output_type": "execute_result"
    }
   ],
   "source": [
    "#Using recievers public key the sender can encrypt the aes key so to securely send it to the reciever \n",
    "\n",
    "msg = open(\"aes.key\",'rb').read()\n",
    "\n",
    "ct = RSAencrypt(msg,\"rec_pub.der\")\n",
    "try:\n",
    "    fp = open(\"symkey.crypt\",\"wb\")\n",
    "    fp.write(ct)\n",
    "    fp.close()\n",
    "except:\n",
    "    print(\"IO error\")\n",
    "ct"
   ]
  },
  {
   "cell_type": "code",
   "execution_count": 23,
   "metadata": {
    "collapsed": false
   },
   "outputs": [
    {
     "data": {
      "text/plain": [
       "b']\\xc9\\xd4\\x1b\\x9cW\\x8d\\x98\\xba\\xc2\\xa7B\\xd3\\xd5\\xbe%'"
      ]
     },
     "execution_count": 23,
     "metadata": {
     },
     "output_type": "execute_result"
    }
   ],
   "source": [
    "#decrypt symkey.crypt(RSA encrypted AES key) to produce symkey(AES key) file\n",
    "\n",
    "ct1 = open(\"symkey.crypt\", \"rb\").read()\n",
    "symkey = RSAdecrypt(ct1,\"rec_priv.der\")\n",
    "\n",
    "try:\n",
    "    file = open(\"rec_aes.key\", \"wb\")\n",
    "    file.write(symkey)\n",
    "    file.close()\n",
    "except:\n",
    "    print(\"IO error\")\n",
    "symkey"
   ]
  },
  {
   "cell_type": "code",
   "execution_count": 24,
   "metadata": {
    "collapsed": false
   },
   "outputs": [
   ],
   "source": [
    "#Using AES key(symkey) to decrypt msg.crypt(sent via sender) to msg(plaintext)\n",
    "\n",
    "!openssl aes-128-ctr -pbkdf2 -iv 101112131415161718191A1B1C1D1E1F -d -pass file:rec_aes.key -in msg.crypt -out msg"
   ]
  },
  {
   "cell_type": "code",
   "execution_count": 25,
   "metadata": {
    "collapsed": false
   },
   "outputs": [
    {
     "name": "stdout",
     "output_type": "stream",
     "text": [
      "The signature is authentic.\n"
     ]
    }
   ],
   "source": [
    "#Receiver verifies msg file signature using msg.sig(signature file)\n",
    "#to make sure the content has not been tampered with\n",
    "\n",
    "recsigfile= open(\"msg.sig\", \"rb\").read()\n",
    "rec_msg = open(\"msg\", \"rb\").read()\n",
    "\n",
    "verify_sig(rec_msg, recsigfile,\"send_pub.der\")"
   ]
  },
  {
   "cell_type": "code",
   "execution_count": 0,
   "metadata": {
    "collapsed": false
   },
   "outputs": [
   ],
   "source": [
   ]
  },
  {
   "cell_type": "code",
   "execution_count": 0,
   "metadata": {
    "collapsed": false
   },
   "outputs": [
   ],
   "source": [
   ]
  }
 ],
 "metadata": {
  "kernelspec": {
   "display_name": "Python 3 (system-wide)",
   "language": "python",
   "metadata": {
    "cocalc": {
     "description": "Python 3 programming language",
     "priority": 100,
     "url": "https://www.python.org/"
    }
   },
   "name": "python3",
   "resource_dir": "/ext/jupyter/kernels/python3"
  },
  "language_info": {
   "codemirror_mode": {
    "name": "ipython",
    "version": 3
   },
   "file_extension": ".py",
   "mimetype": "text/x-python",
   "name": "python",
   "nbconvert_exporter": "python",
   "pygments_lexer": "ipython3",
   "version": "3.6.9"
  }
 },
 "nbformat": 4,
 "nbformat_minor": 4
}