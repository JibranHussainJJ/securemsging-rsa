{
 "cells": [
  {
   "cell_type": "code",
   "execution_count": 6,
   "metadata": {},
   "outputs": [
    {
     "name": "stderr",
     "output_type": "stream",
     "text": [
      "'openssl' is not recognized as an internal or external command,\n",
      "operable program or batch file.\n"
     ]
    }
   ],
   "source": [
    "#sender public and private key\n",
    "!openssl genrsa -out private.pem 2048\n",
    "!openssl rsa -in private.pem -outform DER -out send_priv.der\n",
    "!openssl rsa -in private.pem -outform DER -pubout -out send_pub.der"
   ]
  },
  {
   "cell_type": "code",
   "execution_count": null,
   "metadata": {},
   "outputs": [],
   "source": [
    "#reciver public and private key\n",
    "!openssl genrsa -out private.pem 2048\n",
    "!openssl rsa -in private.pem -outform DER -out rec_priv.der\n",
    "!openssl rsa -in private.pem -outform DER -pubout -out rec_pub.der"
   ]
  },
  {
   "cell_type": "code",
   "execution_count": null,
   "metadata": {},
   "outputs": [],
   "source": [
    "#AES key generation\n",
    "!openssl rand 16 > aes.key"
   ]
  },
  {
   "cell_type": "code",
   "execution_count": null,
   "metadata": {},
   "outputs": [],
   "source": [
    "from Crypto.Signature import pss\n",
    "from Crypto.Hash import SHA256\n",
    "from Crypto.PublicKey import RSA\n",
    "from Crypto.Cipher import PKCS1_OAEP\n",
    "from Crypto.Hash import SHA\n",
    "from Crypto import Random\n",
    "\n",
    "\n",
    "def sign_message(message,privkeyfile_der):\n",
    "    key = RSA.import_key(open(privkeyfile_der,'rb').read())\n",
    "    h = SHA256.new(message.encode())\n",
    "    signature = pss.new(key).sign(h)\n",
    "    return signature\n",
    "\n",
    "\n",
    "def verify_sig(message,signature,pubkeyfile_der):\n",
    "    key = RSA.import_key(open(pubkeyfile_der,'rb').read())\n",
    "    h = SHA256.new(message)\n",
    "    verifier = pss.new(key)\n",
    "    try:\n",
    "        verifier.verify(h, signature)\n",
    "        print( \"The signature is authentic.\")\n",
    "    except (ValueError, TypeError):\n",
    "        print( \"The signature is not authentic.\")\n",
    "\n",
    "\n",
    "def RSAencrypt(message,pubkeyfile_der):\n",
    "    key = RSA.importKey(open(pubkeyfile_der,'rb').read())\n",
    "    cipher = PKCS1_OAEP.new(key)  ### Padding Scheme\n",
    "    ciphertext = cipher.encrypt(message)\n",
    "    return ciphertext\n",
    "\n",
    "def RSAdecrypt(ciphertext,privatekey_der):\n",
    "    key = RSA.importKey(open(privatekey_der,'rb').read())\n",
    "    cipher = PKCS1_OAEP.new(key)\n",
    "    message = cipher.decrypt(ciphertext)\n",
    "    return message"
   ]
  },
  {
   "cell_type": "code",
   "execution_count": null,
   "metadata": {},
   "outputs": [],
   "source": [
    "!echo -n \"dog is cat and cat is dog\" > msg"
   ]
  },
  {
   "cell_type": "code",
   "execution_count": null,
   "metadata": {},
   "outputs": [],
   "source": [
    "#Using sender's private key and the plaintext file we create the signature \n",
    "#assign it to msg.sig(to be transmitted to the reciever) file\n",
    "\n",
    "msg = open(\"msg\").read()\n",
    "\n",
    "signature = sign_message(msg,\"send_priv.der\")\n",
    "try:\n",
    "    fp = open(\"msg.sig\",\"wb\")\n",
    "    fp.write(signature)\n",
    "    fp.close()\n",
    "except:\n",
    "    print(\"IO error\")"
   ]
  },
  {
   "cell_type": "code",
   "execution_count": null,
   "metadata": {},
   "outputs": [],
   "source": [
    "#using AES-128bit in CTR mode we encrypt the plaintext file \n",
    "#assign it to msg.crypt file\n",
    "\n",
    "!openssl aes-128-ctr -pbkdf2 -iv 101112131415161718191A1B1C1D1E1F -e -pass file:aes.key -in msg -out msg.crypt\n"
   ]
  },
  {
   "cell_type": "code",
   "execution_count": null,
   "metadata": {},
   "outputs": [],
   "source": [
    "#Using recievers public key the sender can encrypt the aes key so to securely send it to the reciever \n",
    "\n",
    "msg = open(\"aes.key\",'rb').read()\n",
    "\n",
    "ct = RSAencrypt(msg,\"rec_pub.der\")\n",
    "try:\n",
    "    fp = open(\"symkey.crypt\",\"wb\")\n",
    "    fp.write(ct)\n",
    "    fp.close()\n",
    "except:\n",
    "    print(\"IO error\")"
   ]
  },
  {
   "cell_type": "code",
   "execution_count": null,
   "metadata": {},
   "outputs": [],
   "source": [
    "#decrypt symkey.crypt(RSA encrypted AES key) to produce symkey(AES key) file\n",
    "\n",
    "ct1 = open(\"symkey.crypt\", \"rb\").read()\n",
    "symkey = RSAdecrypt(ct1,\"rec_priv.der\")\n",
    "\n",
    "try:\n",
    "    file = open(\"rec_aes.key\", \"wb\")\n",
    "    file.write(symkey)\n",
    "    file.close()\n",
    "except:\n",
    "    print(\"IO error\")"
   ]
  },
  {
   "cell_type": "code",
   "execution_count": null,
   "metadata": {},
   "outputs": [],
   "source": [
    "#Using AES key(symkey) to decrypt msg.crypt(sent via sender) to msg(plaintext)\n",
    "\n",
    "!openssl aes-128-ctr -pbkdf2 -iv 101112131415161718191A1B1C1D1E1F -d -pass file:rec_aes.key -in msg.crypt -out msg"
   ]
  },
  {
   "cell_type": "code",
   "execution_count": null,
   "metadata": {},
   "outputs": [],
   "source": [
    "#Receiver verifies msg file signature using msg.sig(signature file)\n",
    "#to make sure the content has not been tampered with\n",
    "\n",
    "recsigfile= open(\"msg.sig\", \"rb\").read()\n",
    "rec_msg = open(\"msg\", \"rb\").read()\n",
    "\n",
    "verify_sig(rec_msg, recsigfile,\"send_pub.der\")"
   ]
  }
 ],
 "metadata": {
  "kernelspec": {
   "display_name": "Python 3.10.5 64-bit",
   "language": "python",
   "name": "python3"
  },
  "language_info": {
   "codemirror_mode": {
    "name": "ipython",
    "version": 3
   },
   "file_extension": ".py",
   "mimetype": "text/x-python",
   "name": "python",
   "nbconvert_exporter": "python",
   "pygments_lexer": "ipython3",
   "version": "3.10.5"
  },
  "orig_nbformat": 4,
  "vscode": {
   "interpreter": {
    "hash": "63e515f6d36fc57735a43ba5dca2a940030af2cd5cf116f7ba8bc3cf7d10a9d9"
   }
  }
 },
 "nbformat": 4,
 "nbformat_minor": 2
}
